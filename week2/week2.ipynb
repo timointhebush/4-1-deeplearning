{
 "cells": [
  {
   "cell_type": "code",
   "execution_count": 4,
   "metadata": {},
   "outputs": [],
   "source": [
    "import numpy as np\n",
    "import pandas as pd\n",
    "from sklearn import metrics\n",
    "from sklearn.datasets import fetch_openml"
   ]
  },
  {
   "cell_type": "code",
   "execution_count": 5,
   "metadata": {},
   "outputs": [],
   "source": [
    "# load dataset\n",
    "mnist = fetch_openml('mnist_784')\n",
    "mnist.data.shape, mnist.target.shape\n",
    "x_data = mnist.data\n",
    "y_data = mnist.target.astype(int)"
   ]
  },
  {
   "cell_type": "code",
   "execution_count": 6,
   "metadata": {},
   "outputs": [],
   "source": [
    "from sklearn.model_selection import train_test_split\n",
    "import torch\n",
    "\n",
    "device = \"cuda\"\n",
    "X_train, X_test, y_train, y_test = train_test_split(x_data, y_data, test_size = 0.20, random_state=42)\n",
    "\n",
    "X_train, X_test = torch.Tensor(X_train.values), torch.Tensor(X_test.values)\n",
    "y_train, y_test = torch.Tensor(y_train.values), torch.Tensor(y_test.values)"
   ]
  },
  {
   "cell_type": "code",
   "execution_count": 7,
   "metadata": {},
   "outputs": [],
   "source": [
    "X_train = X_train.to(device)\n",
    "X_test = X_test.to(device)\n",
    "y_train = y_train.to(device)\n",
    "y_test = y_test.to(device)"
   ]
  },
  {
   "cell_type": "code",
   "execution_count": 9,
   "metadata": {},
   "outputs": [
    {
     "name": "stdout",
     "output_type": "stream",
     "text": [
      "torch.Size([56000, 784])\n",
      "torch.Size([14000, 784])\n",
      "torch.Size([56000])\n",
      "torch.Size([14000])\n"
     ]
    }
   ],
   "source": [
    "print(X_train.shape)\n",
    "print(X_test.shape)\n",
    "print(y_train.shape)\n",
    "print(y_test.shape)"
   ]
  },
  {
   "cell_type": "code",
   "execution_count": 10,
   "metadata": {},
   "outputs": [],
   "source": [
    "class LogisticRegression(torch.nn.Module):\n",
    "\n",
    "    def __init__(self, input_dim, output_dim):\n",
    "        super(LogisticRegression, self).__init__()\n",
    "        self.linear = torch.nn.Linear(input_dim, output_dim)\n",
    "\n",
    "    def forward(self, x):\n",
    "        outputs = torch.sigmoid(self.linear(x))\n",
    "        return outputs"
   ]
  },
  {
   "cell_type": "code",
   "execution_count": 12,
   "metadata": {},
   "outputs": [
    {
     "name": "stdout",
     "output_type": "stream",
     "text": [
      "torch.Size([128, 30])\n",
      "torch.Size([30, 20])\n"
     ]
    }
   ],
   "source": [
    "import torch.nn as nn\n",
    "\n",
    "m = nn.Linear(20, 30)\n",
    "input = torch.randn(128, 20)\n",
    "output = m(input)\n",
    "\n",
    "print(output.shape)\n",
    "print(m.weight.shape)"
   ]
  },
  {
   "cell_type": "code",
   "execution_count": 18,
   "metadata": {},
   "outputs": [],
   "source": [
    "# Set Hyper Parameters\n",
    "\n",
    "epochs = 10000\n",
    "input_dim = 784\n",
    "output_dim = 10\n",
    "lr = 0.01\n",
    "\n",
    "model = LogisticRegression(input_dim, output_dim).to(device)\n",
    "criterion = torch.nn.CrossEntropyLoss()\n",
    "optimizer = torch.optim.SGD(model.parameters(), lr=lr)"
   ]
  },
  {
   "cell_type": "code",
   "execution_count": 19,
   "metadata": {},
   "outputs": [
    {
     "name": "stdout",
     "output_type": "stream",
     "text": [
      "====\n",
      "epoch  0\n",
      "loss  tensor(2.4778, device='cuda:0')\n",
      "train_accuracy 0.051\n",
      "test_accuracy 0.084\n",
      "====\n",
      "epoch  1000\n",
      "loss  tensor(1.5616, device='cuda:0')\n",
      "train_accuracy 0.886\n",
      "test_accuracy 0.885\n",
      "====\n",
      "epoch  2000\n",
      "loss  tensor(1.5534, device='cuda:0')\n",
      "train_accuracy 0.895\n",
      "test_accuracy 0.891\n",
      "====\n",
      "epoch  3000\n",
      "loss  tensor(1.5476, device='cuda:0')\n",
      "train_accuracy 0.899\n",
      "test_accuracy 0.896\n",
      "====\n",
      "epoch  4000\n",
      "loss  tensor(1.5454, device='cuda:0')\n",
      "train_accuracy 0.901\n",
      "test_accuracy 0.897\n",
      "====\n",
      "epoch  5000\n",
      "loss  tensor(1.5430, device='cuda:0')\n",
      "train_accuracy 0.902\n",
      "test_accuracy 0.897\n",
      "====\n",
      "epoch  6000\n",
      "loss  tensor(1.5416, device='cuda:0')\n",
      "train_accuracy 0.903\n",
      "test_accuracy 0.899\n",
      "====\n",
      "epoch  7000\n",
      "loss  tensor(1.5405, device='cuda:0')\n",
      "train_accuracy 0.904\n",
      "test_accuracy 0.900\n",
      "====\n",
      "epoch  8000\n",
      "loss  tensor(1.5396, device='cuda:0')\n",
      "train_accuracy 0.904\n",
      "test_accuracy 0.899\n",
      "====\n",
      "epoch  9000\n",
      "loss  tensor(1.5389, device='cuda:0')\n",
      "train_accuracy 0.905\n",
      "test_accuracy 0.900\n"
     ]
    }
   ],
   "source": [
    "loss_save_arr = []\n",
    "\n",
    "for i in range(epochs):\n",
    "    model.train()\n",
    "    optimizer.zero_grad()\n",
    "    output = model(X_train)\n",
    "    loss = criterion(output, y_train.long())\n",
    "    loss.backward()\n",
    "    optimizer.step()\n",
    "\n",
    "    loss_save_arr.append(loss.data)\n",
    "\n",
    "    if (i % 1000 == 0):\n",
    "        print(\"====\")\n",
    "        print('epoch ', i)\n",
    "        print('loss ', loss.data)\n",
    "        _, pred = torch.max(output.data, axis=1)\n",
    "        print(\"train_accuracy {:0.03f}\".format(float((pred == y_train).sum() / y_train.size(0))))\n",
    "\n",
    "        model.eval()\n",
    "        with torch.no_grad():\n",
    "            output = model(X_test)\n",
    "            _, pred = torch.max(output.data, axis = 1)\n",
    "            print(\"test_accuracy {:0.03f}\".format(float((pred == y_test).sum() / y_test.size(0))))"
   ]
  },
  {
   "cell_type": "code",
   "execution_count": 17,
   "metadata": {},
   "outputs": [
    {
     "data": {
      "text/plain": [
       "[<matplotlib.lines.Line2D at 0x7f2fb02e1310>]"
      ]
     },
     "execution_count": 17,
     "metadata": {},
     "output_type": "execute_result"
    },
    {
     "data": {
      "image/png": "[encoded data removed]",
      "text/plain": [
       "<Figure size 432x288 with 1 Axes>"
      ]
     },
     "metadata": {
      "needs_background": "light"
     },
     "output_type": "display_data"
    }
   ],
   "source": [
    "import matplotlib.pyplot as plt\n",
    "\n",
    "%matplotlib inline\n",
    "\n",
    "plt.plot(range(epochs), [e.to(\"cpu\") for e in loss_save_arr])"
   ]
  },
  {
   "cell_type": "code",
   "execution_count": null,
   "metadata": {},
   "outputs": [],
   "source": []
  }
 ],
 "metadata": {
  "interpreter": {
   "hash": "1da4c34da46d8a3ce95549336a5e1443c281541918097fc494bfd329fa009142"
  },
  "kernelspec": {
   "display_name": "Python 3.7.12 64-bit ('ml-3.7.12')",
   "language": "python",
   "name": "python3"
  },
  "language_info": {
   "codemirror_mode": {
    "name": "ipython",
    "version": 3
   },
   "file_extension": ".py",
   "mimetype": "text/x-python",
   "name": "python",
   "nbconvert_exporter": "python",
   "pygments_lexer": "ipython3",
   "version": "3.7.12"
  },
  "orig_nbformat": 4
 },
 "nbformat": 4,
 "nbformat_minor": 2
}
