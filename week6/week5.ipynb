{
 "cells": [
  {
   "cell_type": "code",
   "execution_count": 1,
   "metadata": {},
   "outputs": [
    {
     "name": "stdout",
     "output_type": "stream",
     "text": [
      "Downloading http://fashion-mnist.s3-website.eu-central-1.amazonaws.com/train-images-idx3-ubyte.gz\n",
      "Downloading http://fashion-mnist.s3-website.eu-central-1.amazonaws.com/train-images-idx3-ubyte.gz to data/FashionMNIST/raw/train-images-idx3-ubyte.gz\n"
     ]
    },
    {
     "data": {
      "application/vnd.jupyter.widget-view+json": {
       "model_id": "c2add293355b4aaf977649d8c646a548",
       "version_major": 2,
       "version_minor": 0
      },
      "text/plain": [
       "  0%|          | 0/26421880 [00:00<?, ?it/s]"
      ]
     },
     "metadata": {},
     "output_type": "display_data"
    },
    {
     "name": "stdout",
     "output_type": "stream",
     "text": [
      "Extracting data/FashionMNIST/raw/train-images-idx3-ubyte.gz to data/FashionMNIST/raw\n",
      "\n",
      "Downloading http://fashion-mnist.s3-website.eu-central-1.amazonaws.com/train-labels-idx1-ubyte.gz\n",
      "Downloading http://fashion-mnist.s3-website.eu-central-1.amazonaws.com/train-labels-idx1-ubyte.gz to data/FashionMNIST/raw/train-labels-idx1-ubyte.gz\n"
     ]
    },
    {
     "data": {
      "application/vnd.jupyter.widget-view+json": {
       "model_id": "c1051297070e41a1ae4cd86fe23ac869",
       "version_major": 2,
       "version_minor": 0
      },
      "text/plain": [
       "  0%|          | 0/29515 [00:00<?, ?it/s]"
      ]
     },
     "metadata": {},
     "output_type": "display_data"
    },
    {
     "name": "stdout",
     "output_type": "stream",
     "text": [
      "Extracting data/FashionMNIST/raw/train-labels-idx1-ubyte.gz to data/FashionMNIST/raw\n",
      "\n",
      "Downloading http://fashion-mnist.s3-website.eu-central-1.amazonaws.com/t10k-images-idx3-ubyte.gz\n",
      "Downloading http://fashion-mnist.s3-website.eu-central-1.amazonaws.com/t10k-images-idx3-ubyte.gz to data/FashionMNIST/raw/t10k-images-idx3-ubyte.gz\n"
     ]
    },
    {
     "data": {
      "application/vnd.jupyter.widget-view+json": {
       "model_id": "be76a8f8de47405d94d49d253c767f2d",
       "version_major": 2,
       "version_minor": 0
      },
      "text/plain": [
       "  0%|          | 0/4422102 [00:00<?, ?it/s]"
      ]
     },
     "metadata": {},
     "output_type": "display_data"
    },
    {
     "name": "stdout",
     "output_type": "stream",
     "text": [
      "Extracting data/FashionMNIST/raw/t10k-images-idx3-ubyte.gz to data/FashionMNIST/raw\n",
      "\n",
      "Downloading http://fashion-mnist.s3-website.eu-central-1.amazonaws.com/t10k-labels-idx1-ubyte.gz\n",
      "Downloading http://fashion-mnist.s3-website.eu-central-1.amazonaws.com/t10k-labels-idx1-ubyte.gz to data/FashionMNIST/raw/t10k-labels-idx1-ubyte.gz\n"
     ]
    },
    {
     "data": {
      "application/vnd.jupyter.widget-view+json": {
       "model_id": "7544f2b393364c2a9806dc672496ad50",
       "version_major": 2,
       "version_minor": 0
      },
      "text/plain": [
       "  0%|          | 0/5148 [00:00<?, ?it/s]"
      ]
     },
     "metadata": {},
     "output_type": "display_data"
    },
    {
     "name": "stdout",
     "output_type": "stream",
     "text": [
      "Extracting data/FashionMNIST/raw/t10k-labels-idx1-ubyte.gz to data/FashionMNIST/raw\n",
      "\n"
     ]
    }
   ],
   "source": [
    "import torch\n",
    "from torch.utils.data import Dataset\n",
    "from torchvision import datasets\n",
    "from torchvision.transforms import ToTensor\n",
    "import matplotlib.pyplot as plt\n",
    "\n",
    "\n",
    "trainging_data = datasets.FashionMNIST(\n",
    "    root = \"../data\",\n",
    "    train=True,\n",
    "    download=True,\n",
    "    transform=ToTensor()\n",
    ")\n",
    "\n",
    "test_data = datasets.FashionMNIST(\n",
    "    root=\"../data\",\n",
    "    train=False,\n",
    "    download=True,\n",
    "    transform=ToTensor()\n",
    ")"
   ]
  },
  {
   "cell_type": "code",
   "execution_count": 2,
   "metadata": {},
   "outputs": [
    {
     "data": {
      "image/png": "[encoded data removed]",
      "text/plain": [
       "<Figure size 576x576 with 9 Axes>"
      ]
     },
     "metadata": {
      "needs_background": "light"
     },
     "output_type": "display_data"
    }
   ],
   "source": [
    "figure = plt.figure(figsize=(8, 8))\n",
    "cols, rows = 3, 3\n",
    "\n",
    "for i in range(1, cols * rows + 1):\n",
    "    sample_idx = torch.randint(len(trainging_data), size=(1,)).item()\n",
    "    img, label = trainging_data[sample_idx]\n",
    "    figure.add_subplot(rows, cols, i)\n",
    "    plt.axis(\"off\")\n",
    "    plt.imshow(img.squeeze(), cmap=\"gray\")\n",
    "plt.show()"
   ]
  },
  {
   "cell_type": "code",
   "execution_count": 3,
   "metadata": {},
   "outputs": [
    {
     "name": "stdout",
     "output_type": "stream",
     "text": [
      "torch.Size([1, 28, 28])\n",
      "3\n"
     ]
    }
   ],
   "source": [
    "print(trainging_data[3][0].shape)\n",
    "print(trainging_data[3][1])"
   ]
  },
  {
   "cell_type": "code",
   "execution_count": 9,
   "metadata": {},
   "outputs": [],
   "source": [
    "class CustomDataset(Dataset):\n",
    "\n",
    "    def __init__(self):\n",
    "        self.x_data = [[73, 80, 75], [93, 88, 93], [89, 91, 90], [96, 98, 100], [73, 66, 70]]\n",
    "        self.y_data = [[152], [185], [180], [196], [142]]\n",
    "\n",
    "    def __len__(self):\n",
    "        return len(self.x_data)\n",
    "\n",
    "    def __getitem__(self, idx):\n",
    "        x = torch.FloatTensor(self.x_data[idx])\n",
    "        y = torch.FloatTensor(self.y_data[idx])\n",
    "        return x, y\n"
   ]
  },
  {
   "cell_type": "code",
   "execution_count": 12,
   "metadata": {},
   "outputs": [
    {
     "name": "stdout",
     "output_type": "stream",
     "text": [
      "torch.Size([1, 28, 28])\n",
      "tensor([0., 0., 0., 1., 0., 0., 0., 0., 0., 0.])\n"
     ]
    }
   ],
   "source": [
    "from torchvision.transforms import Lambda\n",
    "\n",
    "ds = datasets.FashionMNIST(\n",
    "    root=\"data\",\n",
    "    train=True,\n",
    "    download=True,\n",
    "    transform=ToTensor(),\n",
    "    target_transform=Lambda(lambda y: torch.zeros(10, dtype=torch.float).scatter_(\n",
    "        0, torch.tensor(y), value=1\n",
    "    ))\n",
    ")\n",
    "\n",
    "print(ds[3][0].shape)\n",
    "print(ds[3][1])"
   ]
  },
  {
   "cell_type": "code",
   "execution_count": 13,
   "metadata": {},
   "outputs": [
    {
     "ename": "TypeError",
     "evalue": "__init__() got an unexpected keyword argument 'path'",
     "output_type": "error",
     "traceback": [
      "\u001b[0;31m---------------------------------------------------------------------------\u001b[0m",
      "\u001b[0;31mTypeError\u001b[0m                                 Traceback (most recent call last)",
      "\u001b[0;32m/tmp/ipykernel_14863/2292878429.py\u001b[0m in \u001b[0;36m<module>\u001b[0;34m\u001b[0m\n\u001b[1;32m     12\u001b[0m torchvision_dataset = CustomDataset(\n\u001b[1;32m     13\u001b[0m     \u001b[0mpath\u001b[0m \u001b[0;34m=\u001b[0m \u001b[0;34m'images/'\u001b[0m\u001b[0;34m,\u001b[0m\u001b[0;34m\u001b[0m\u001b[0;34m\u001b[0m\u001b[0m\n\u001b[0;32m---> 14\u001b[0;31m     \u001b[0mtransform\u001b[0m \u001b[0;34m=\u001b[0m \u001b[0mtorchvision_transform\u001b[0m\u001b[0;34m\u001b[0m\u001b[0;34m\u001b[0m\u001b[0m\n\u001b[0m\u001b[1;32m     15\u001b[0m )\n",
      "\u001b[0;31mTypeError\u001b[0m: __init__() got an unexpected keyword argument 'path'"
     ]
    }
   ],
   "source": [
    "import torchvision.transforms as transforms\n",
    "from torchvision.transforms import Compose\n",
    "\n",
    "torchvision_transform = Compose([\n",
    "    transforms.Resize((300, 300)),\n",
    "    transforms.RandomCrop(224),\n",
    "    transforms.ColorJitter(brightness=0.2, contrast=0.2, saturation=0.2, hue=0.2),\n",
    "    transforms.RandomHorizontalFlip(p = 1),\n",
    "    transforms.ToTensor(),\n",
    "])\n",
    "\n",
    "torchvision_dataset = CustomDataset(\n",
    "    path = 'images/',\n",
    "    transform = torchvision_transform\n",
    ")"
   ]
  },
  {
   "cell_type": "code",
   "execution_count": 14,
   "metadata": {},
   "outputs": [],
   "source": [
    "from torch.utils.data import DataLoader\n",
    "\n",
    "train_dataloader = DataLoader(trainging_data, batch_size=64, shuffle=True)\n",
    "test_dataloader = DataLoader(test_data, batch_size=64, shuffle=True)"
   ]
  },
  {
   "cell_type": "code",
   "execution_count": 15,
   "metadata": {},
   "outputs": [
    {
     "name": "stdout",
     "output_type": "stream",
     "text": [
      "Feature batch shape: torch.Size([64, 1, 28, 28])\n",
      "Labels batch shape: torch.Size([64])\n"
     ]
    },
    {
     "data": {
      "image/png": "[encoded data removed]",
      "text/plain": [
       "<Figure size 432x288 with 1 Axes>"
      ]
     },
     "metadata": {
      "needs_background": "light"
     },
     "output_type": "display_data"
    },
    {
     "name": "stdout",
     "output_type": "stream",
     "text": [
      "Label: 4\n"
     ]
    }
   ],
   "source": [
    "train_features, train_labels = next(iter(train_dataloader))\n",
    "\n",
    "print(f\"Feature batch shape: {train_features.size()}\")\n",
    "print(f\"Labels batch shape: {train_labels.size()}\")\n",
    "\n",
    "img = train_features[0].squeeze()\n",
    "label = train_labels[0]\n",
    "\n",
    "plt.imshow(img, cmap=\"gray\")\n",
    "plt.show()\n",
    "print(f\"Label: {label}\")"
   ]
  },
  {
   "cell_type": "code",
   "execution_count": 22,
   "metadata": {},
   "outputs": [],
   "source": [
    "import torch.nn.functional as F\n",
    "\n",
    "class MLP(torch.nn.Module):\n",
    "\n",
    "    def __init__(self):\n",
    "        super(MLP, self).__init__()\n",
    "        self.linear_relu_stack = torch.nn.Sequential(\n",
    "            torch.nn.Flatten(),\n",
    "            torch.nn.Linear(28 * 28, 512),\n",
    "            torch.nn.ReLU(),\n",
    "            torch.nn.Linear(512, 512),\n",
    "            # torch.nn.BatchNorm1d(512),\n",
    "            torch.nn.ReLU(),\n",
    "            torch.nn.Linear(512, 10),\n",
    "        )\n",
    "\n",
    "    def forward(self, x):\n",
    "        logits = self.linear_relu_stack(x)\n",
    "        return logits"
   ]
  },
  {
   "cell_type": "code",
   "execution_count": 23,
   "metadata": {},
   "outputs": [
    {
     "name": "stdout",
     "output_type": "stream",
     "text": [
      "device:  cuda\n"
     ]
    }
   ],
   "source": [
    "device = 'cuda' if torch.cuda.is_available() else 'cpu'\n",
    "print(\"device: \", device)\n",
    "lr = 0.001\n",
    "epochs = 20\n",
    "model = MLP().to(device)\n",
    "criterion = torch.nn.CrossEntropyLoss().to(device)\n",
    "optimizer = torch.optim.SGD(model.parameters(), lr=lr)"
   ]
  },
  {
   "cell_type": "code",
   "execution_count": 24,
   "metadata": {},
   "outputs": [
    {
     "name": "stdout",
     "output_type": "stream",
     "text": [
      "loss: 2.296057  [    0/60000]\n",
      "loss: 2.283111  [ 6400/60000]\n",
      "loss: 2.272609  [12800/60000]\n",
      "loss: 2.269556  [19200/60000]\n",
      "loss: 2.242112  [25600/60000]\n",
      "loss: 2.222144  [32000/60000]\n",
      "loss: 2.202272  [38400/60000]\n",
      "loss: 2.192159  [44800/60000]\n",
      "loss: 2.155325  [51200/60000]\n",
      "loss: 2.137113  [57600/60000]\n",
      "Test Error: \n",
      " Accurach: 49.3%, Avg loss: 2.143579 \n",
      "\n",
      "loss: 2.148298  [    0/60000]\n",
      "loss: 2.123630  [ 6400/60000]\n",
      "loss: 2.083555  [12800/60000]\n",
      "loss: 2.114607  [19200/60000]\n",
      "loss: 2.047505  [25600/60000]\n",
      "loss: 2.021230  [32000/60000]\n",
      "loss: 1.995720  [38400/60000]\n",
      "loss: 1.889124  [44800/60000]\n",
      "loss: 1.910400  [51200/60000]\n",
      "loss: 1.931795  [57600/60000]\n",
      "Test Error: \n",
      " Accurach: 60.6%, Avg loss: 1.859995 \n",
      "\n",
      "loss: 1.847178  [    0/60000]\n",
      "loss: 1.878178  [ 6400/60000]\n",
      "loss: 1.838770  [12800/60000]\n",
      "loss: 1.768265  [19200/60000]\n",
      "loss: 1.651259  [25600/60000]\n",
      "loss: 1.592915  [32000/60000]\n",
      "loss: 1.613240  [38400/60000]\n",
      "loss: 1.598774  [44800/60000]\n",
      "loss: 1.544999  [51200/60000]\n",
      "loss: 1.475108  [57600/60000]\n",
      "Test Error: \n",
      " Accurach: 62.7%, Avg loss: 1.488366 \n",
      "\n",
      "loss: 1.489516  [    0/60000]\n",
      "loss: 1.342192  [ 6400/60000]\n",
      "loss: 1.319541  [12800/60000]\n",
      "loss: 1.406163  [19200/60000]\n",
      "loss: 1.471799  [25600/60000]\n",
      "loss: 1.272297  [32000/60000]\n",
      "loss: 1.354681  [38400/60000]\n",
      "loss: 1.285833  [44800/60000]\n",
      "loss: 1.294557  [51200/60000]\n",
      "loss: 1.325226  [57600/60000]\n",
      "Test Error: \n",
      " Accurach: 63.0%, Avg loss: 1.228716 \n",
      "\n",
      "loss: 1.307042  [    0/60000]\n",
      "loss: 1.239132  [ 6400/60000]\n",
      "loss: 1.268919  [12800/60000]\n",
      "loss: 1.059080  [19200/60000]\n",
      "loss: 1.063395  [25600/60000]\n",
      "loss: 1.100149  [32000/60000]\n",
      "loss: 1.236009  [38400/60000]\n",
      "loss: 1.004960  [44800/60000]\n",
      "loss: 1.008498  [51200/60000]\n",
      "loss: 1.032714  [57600/60000]\n",
      "Test Error: \n",
      " Accurach: 64.9%, Avg loss: 1.071884 \n",
      "\n",
      "loss: 1.130357  [    0/60000]\n",
      "loss: 1.039315  [ 6400/60000]\n",
      "loss: 1.055481  [12800/60000]\n",
      "loss: 0.973947  [19200/60000]\n",
      "loss: 0.928637  [25600/60000]\n",
      "loss: 1.018740  [32000/60000]\n",
      "loss: 0.973051  [38400/60000]\n",
      "loss: 1.024255  [44800/60000]\n",
      "loss: 0.848370  [51200/60000]\n",
      "loss: 0.922541  [57600/60000]\n",
      "Test Error: \n",
      " Accurach: 66.3%, Avg loss: 0.970732 \n",
      "\n",
      "loss: 0.910140  [    0/60000]\n",
      "loss: 0.993091  [ 6400/60000]\n",
      "loss: 0.958274  [12800/60000]\n",
      "loss: 0.969062  [19200/60000]\n",
      "loss: 0.878994  [25600/60000]\n",
      "loss: 0.850510  [32000/60000]\n",
      "loss: 0.837264  [38400/60000]\n",
      "loss: 1.113769  [44800/60000]\n",
      "loss: 0.890020  [51200/60000]\n",
      "loss: 0.743208  [57600/60000]\n",
      "Test Error: \n",
      " Accurach: 67.6%, Avg loss: 0.901327 \n",
      "\n",
      "loss: 0.856275  [    0/60000]\n",
      "loss: 0.970661  [ 6400/60000]\n",
      "loss: 0.840845  [12800/60000]\n",
      "loss: 1.017398  [19200/60000]\n",
      "loss: 0.911655  [25600/60000]\n",
      "loss: 0.953940  [32000/60000]\n",
      "loss: 0.871529  [38400/60000]\n",
      "loss: 0.899470  [44800/60000]\n",
      "loss: 0.924151  [51200/60000]\n",
      "loss: 0.691032  [57600/60000]\n",
      "Test Error: \n",
      " Accurach: 68.9%, Avg loss: 0.851490 \n",
      "\n",
      "loss: 0.797476  [    0/60000]\n",
      "loss: 0.844358  [ 6400/60000]\n",
      "loss: 0.759334  [12800/60000]\n",
      "loss: 0.825591  [19200/60000]\n",
      "loss: 0.760628  [25600/60000]\n",
      "loss: 0.837400  [32000/60000]\n",
      "loss: 0.763679  [38400/60000]\n",
      "loss: 0.690317  [44800/60000]\n",
      "loss: 0.721049  [51200/60000]\n",
      "loss: 0.901521  [57600/60000]\n",
      "Test Error: \n",
      " Accurach: 70.4%, Avg loss: 0.813814 \n",
      "\n",
      "loss: 0.837440  [    0/60000]\n",
      "loss: 0.763172  [ 6400/60000]\n",
      "loss: 0.800700  [12800/60000]\n",
      "loss: 0.850335  [19200/60000]\n",
      "loss: 0.893722  [25600/60000]\n",
      "loss: 0.957098  [32000/60000]\n",
      "loss: 0.686642  [38400/60000]\n",
      "loss: 0.793648  [44800/60000]\n",
      "loss: 0.740066  [51200/60000]\n",
      "loss: 0.644635  [57600/60000]\n",
      "Test Error: \n",
      " Accurach: 71.2%, Avg loss: 0.782520 \n",
      "\n",
      "loss: 0.653096  [    0/60000]\n",
      "loss: 0.610156  [ 6400/60000]\n",
      "loss: 0.734600  [12800/60000]\n",
      "loss: 0.579105  [19200/60000]\n",
      "loss: 0.827559  [25600/60000]\n",
      "loss: 0.867134  [32000/60000]\n",
      "loss: 0.719397  [38400/60000]\n",
      "loss: 0.849195  [44800/60000]\n",
      "loss: 0.679719  [51200/60000]\n",
      "loss: 0.791858  [57600/60000]\n",
      "Test Error: \n",
      " Accurach: 72.5%, Avg loss: 0.758550 \n",
      "\n",
      "loss: 0.775392  [    0/60000]\n",
      "loss: 0.740357  [ 6400/60000]\n",
      "loss: 0.726130  [12800/60000]\n",
      "loss: 0.630512  [19200/60000]\n",
      "loss: 0.958298  [25600/60000]\n",
      "loss: 0.699259  [32000/60000]\n",
      "loss: 0.641011  [38400/60000]\n",
      "loss: 0.698138  [44800/60000]\n",
      "loss: 0.685198  [51200/60000]\n",
      "loss: 0.706150  [57600/60000]\n",
      "Test Error: \n",
      " Accurach: 73.5%, Avg loss: 0.736625 \n",
      "\n",
      "loss: 0.683335  [    0/60000]\n",
      "loss: 0.761205  [ 6400/60000]\n",
      "loss: 0.787792  [12800/60000]\n",
      "loss: 0.563278  [19200/60000]\n",
      "loss: 0.610028  [25600/60000]\n",
      "loss: 0.660276  [32000/60000]\n",
      "loss: 0.700806  [38400/60000]\n",
      "loss: 0.873243  [44800/60000]\n",
      "loss: 0.731610  [51200/60000]\n",
      "loss: 0.732545  [57600/60000]\n",
      "Test Error: \n",
      " Accurach: 74.5%, Avg loss: 0.718099 \n",
      "\n",
      "loss: 0.755792  [    0/60000]\n",
      "loss: 0.609461  [ 6400/60000]\n",
      "loss: 0.626254  [12800/60000]\n",
      "loss: 0.659740  [19200/60000]\n",
      "loss: 0.580198  [25600/60000]\n",
      "loss: 0.729049  [32000/60000]\n",
      "loss: 0.804588  [38400/60000]\n",
      "loss: 0.705823  [44800/60000]\n",
      "loss: 0.738244  [51200/60000]\n",
      "loss: 0.743928  [57600/60000]\n",
      "Test Error: \n",
      " Accurach: 75.4%, Avg loss: 0.700147 \n",
      "\n",
      "loss: 0.723773  [    0/60000]\n",
      "loss: 0.591182  [ 6400/60000]\n",
      "loss: 0.636151  [12800/60000]\n",
      "loss: 0.632632  [19200/60000]\n",
      "loss: 0.592629  [25600/60000]\n",
      "loss: 0.581093  [32000/60000]\n",
      "loss: 0.642921  [38400/60000]\n",
      "loss: 0.446724  [44800/60000]\n",
      "loss: 0.645452  [51200/60000]\n",
      "loss: 0.656844  [57600/60000]\n",
      "Test Error: \n",
      " Accurach: 76.2%, Avg loss: 0.682131 \n",
      "\n",
      "loss: 0.580278  [    0/60000]\n",
      "loss: 0.751393  [ 6400/60000]\n",
      "loss: 0.746067  [12800/60000]\n",
      "loss: 0.607252  [19200/60000]\n",
      "loss: 0.648999  [25600/60000]\n",
      "loss: 0.954603  [32000/60000]\n",
      "loss: 0.571942  [38400/60000]\n",
      "loss: 0.587413  [44800/60000]\n",
      "loss: 0.726213  [51200/60000]\n",
      "loss: 0.742795  [57600/60000]\n",
      "Test Error: \n",
      " Accurach: 76.8%, Avg loss: 0.668334 \n",
      "\n",
      "loss: 0.573984  [    0/60000]\n",
      "loss: 0.760793  [ 6400/60000]\n",
      "loss: 0.709570  [12800/60000]\n",
      "loss: 0.537193  [19200/60000]\n",
      "loss: 0.576726  [25600/60000]\n",
      "loss: 0.691863  [32000/60000]\n",
      "loss: 0.590500  [38400/60000]\n",
      "loss: 0.549720  [44800/60000]\n",
      "loss: 0.537214  [51200/60000]\n",
      "loss: 0.605780  [57600/60000]\n",
      "Test Error: \n",
      " Accurach: 77.3%, Avg loss: 0.657295 \n",
      "\n",
      "loss: 0.658207  [    0/60000]\n",
      "loss: 0.629107  [ 6400/60000]\n",
      "loss: 0.591488  [12800/60000]\n",
      "loss: 0.581970  [19200/60000]\n",
      "loss: 0.860228  [25600/60000]\n",
      "loss: 0.547224  [32000/60000]\n",
      "loss: 0.551028  [38400/60000]\n",
      "loss: 0.543160  [44800/60000]\n",
      "loss: 0.716332  [51200/60000]\n",
      "loss: 0.597919  [57600/60000]\n",
      "Test Error: \n",
      " Accurach: 77.6%, Avg loss: 0.642321 \n",
      "\n",
      "loss: 0.443823  [    0/60000]\n",
      "loss: 0.646517  [ 6400/60000]\n",
      "loss: 0.580263  [12800/60000]\n",
      "loss: 0.610236  [19200/60000]\n",
      "loss: 0.562117  [25600/60000]\n",
      "loss: 0.746749  [32000/60000]\n",
      "loss: 0.488849  [38400/60000]\n",
      "loss: 0.702534  [44800/60000]\n",
      "loss: 0.598905  [51200/60000]\n",
      "loss: 0.535261  [57600/60000]\n",
      "Test Error: \n",
      " Accurach: 78.0%, Avg loss: 0.629798 \n",
      "\n",
      "loss: 0.486860  [    0/60000]\n",
      "loss: 0.755891  [ 6400/60000]\n",
      "loss: 0.678040  [12800/60000]\n",
      "loss: 0.463908  [19200/60000]\n",
      "loss: 0.613013  [25600/60000]\n",
      "loss: 0.719264  [32000/60000]\n",
      "loss: 0.705535  [38400/60000]\n",
      "loss: 0.633436  [44800/60000]\n",
      "loss: 0.588444  [51200/60000]\n",
      "loss: 0.713402  [57600/60000]\n",
      "Test Error: \n",
      " Accurach: 78.6%, Avg loss: 0.620857 \n",
      "\n"
     ]
    }
   ],
   "source": [
    "for epoch in range(epochs):\n",
    "    for batch_idx, (X_train, y_train) in enumerate(train_dataloader):\n",
    "        # tarin\n",
    "        model.train()\n",
    "        optimizer.zero_grad()\n",
    "        X_train = X_train.to(device)\n",
    "        y_train = y_train.to(device)\n",
    "        pred = model(X_train)\n",
    "        loss = criterion(pred, y_train)\n",
    "        loss.backward()\n",
    "        optimizer.step()\n",
    "        if batch_idx % 100 == 0:\n",
    "            loss, current = loss.item(), batch_idx * len(X_train)\n",
    "            print(f\"loss: {loss:>7f}  [{current:>5d}/{len(train_dataloader.dataset):>5d}]\")\n",
    "    \n",
    "    test_loss, correct = 0, 0\n",
    "    model.eval()\n",
    "    with torch.no_grad():\n",
    "        for X_test, y_test in test_dataloader:\n",
    "            X_test = X_test.to(device)\n",
    "            y_test = y_test.to(device)\n",
    "            pred = model(X_test)\n",
    "            test_loss += criterion(pred, y_test).item()\n",
    "            correct += (pred.argmax(1) == y_test).type(torch.float).sum().item()\n",
    "        test_loss /= len(test_dataloader)\n",
    "        correct /= len(test_dataloader.dataset)\n",
    "        print(f\"Test Error: \\n Accurach: {(100*correct):>0.1f}%, Avg loss: {test_loss:>8f} \\n\")"
   ]
  },
  {
   "cell_type": "code",
   "execution_count": 25,
   "metadata": {},
   "outputs": [],
   "source": [
    "import torchvision.models as models\n",
    "\n",
    "torch.save(model.state_dict(), 'model_no_normalization_wieghts.pth')"
   ]
  },
  {
   "cell_type": "code",
   "execution_count": 27,
   "metadata": {},
   "outputs": [
    {
     "data": {
      "text/plain": [
       "MLP(\n",
       "  (linear_relu_stack): Sequential(\n",
       "    (0): Flatten(start_dim=1, end_dim=-1)\n",
       "    (1): Linear(in_features=784, out_features=512, bias=True)\n",
       "    (2): ReLU()\n",
       "    (3): Linear(in_features=512, out_features=512, bias=True)\n",
       "    (4): ReLU()\n",
       "    (5): Linear(in_features=512, out_features=10, bias=True)\n",
       "  )\n",
       ")"
      ]
     },
     "execution_count": 27,
     "metadata": {},
     "output_type": "execute_result"
    }
   ],
   "source": [
    "model_no_normalization = MLP().to(device)\n",
    "model_no_normalization.load_state_dict(torch.load('model_no_normalization_wieghts.pth'))\n",
    "model_no_normalization.eval()"
   ]
  },
  {
   "cell_type": "code",
   "execution_count": 21,
   "metadata": {},
   "outputs": [
    {
     "name": "stdout",
     "output_type": "stream",
     "text": [
      "Test Error: \n",
      " Accurach: 87.1%, Avg loss: 0.363194 \n",
      "\n"
     ]
    }
   ],
   "source": [
    "with torch.no_grad():\n",
    "    for X_test, y_test in test_dataloader:\n",
    "        X_test = X_test.to(device)\n",
    "        y_test = y_test.to(device)\n",
    "        pred = model(X_test)\n",
    "        test_loss += criterion(pred, y_test).item()\n",
    "        correct += (pred.argmax(1) == y_test).type(torch.float).sum().item()\n",
    "    test_loss /= len(test_dataloader)\n",
    "    correct /= len(test_dataloader.dataset)\n",
    "    print(f\"Test Error: \\n Accurach: {(100*correct):>0.1f}%, Avg loss: {test_loss:>8f} \\n\")"
   ]
  },
  {
   "cell_type": "code",
   "execution_count": 28,
   "metadata": {},
   "outputs": [
    {
     "name": "stdout",
     "output_type": "stream",
     "text": [
      "Test Error: \n",
      " Accurach: 78.6%, Avg loss: 0.624785 \n",
      "\n"
     ]
    }
   ],
   "source": [
    "with torch.no_grad():\n",
    "    for X_test, y_test in test_dataloader:\n",
    "        X_test = X_test.to(device)\n",
    "        y_test = y_test.to(device)\n",
    "        pred = model_no_normalization(X_test)\n",
    "        test_loss += criterion(pred, y_test).item()\n",
    "        correct += (pred.argmax(1) == y_test).type(torch.float).sum().item()\n",
    "    test_loss /= len(test_dataloader)\n",
    "    correct /= len(test_dataloader.dataset)\n",
    "    print(f\"Test Error: \\n Accurach: {(100*correct):>0.1f}%, Avg loss: {test_loss:>8f} \\n\")"
   ]
  },
  {
   "cell_type": "code",
   "execution_count": null,
   "metadata": {},
   "outputs": [],
   "source": []
  }
 ],
 "metadata": {
  "interpreter": {
   "hash": "1da4c34da46d8a3ce95549336a5e1443c281541918097fc494bfd329fa009142"
  },
  "kernelspec": {
   "display_name": "Python 3.7.12 64-bit ('ml-3.7.12')",
   "language": "python",
   "name": "python3"
  },
  "language_info": {
   "codemirror_mode": {
    "name": "ipython",
    "version": 3
   },
   "file_extension": ".py",
   "mimetype": "text/x-python",
   "name": "python",
   "nbconvert_exporter": "python",
   "pygments_lexer": "ipython3",
   "version": "3.7.12"
  },
  "orig_nbformat": 4
 },
 "nbformat": 4,
 "nbformat_minor": 2
}
