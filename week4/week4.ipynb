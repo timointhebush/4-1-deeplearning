{
 "cells": [
  {
   "cell_type": "code",
   "execution_count": 1,
   "metadata": {},
   "outputs": [],
   "source": [
    "from sklearn import metrics\n",
    "from sklearn.datasets import fetch_openml\n",
    "\n",
    "mnist = fetch_openml('mnist_784')\n",
    "x_data, y_data = mnist.data, mnist.target.astype(int)"
   ]
  },
  {
   "cell_type": "code",
   "execution_count": 2,
   "metadata": {},
   "outputs": [
    {
     "name": "stdout",
     "output_type": "stream",
     "text": [
      "cuda\n"
     ]
    }
   ],
   "source": [
    "import platform\n",
    "\n",
    "device = 'cpu'\n",
    "if platform.system() == 'Darwin':\n",
    "    device = 'cpu'\n",
    "else:\n",
    "    device = 'cuda'\n",
    "print(device)"
   ]
  },
  {
   "cell_type": "code",
   "execution_count": 6,
   "metadata": {},
   "outputs": [],
   "source": [
    "import torch\n",
    "import torch.nn.functional as F\n",
    "import torch.nn as nn\n",
    "\n",
    "\n",
    "class MLP(torch.nn.Module):\n",
    "\n",
    "    def __init__(self):\n",
    "        super(MLP, self).__init__()\n",
    "        self.linear_relu_stack = nn.Sequential(\n",
    "            nn.Linear(28 * 28, 512),\n",
    "            nn.ReLU(),\n",
    "            nn.Linear(512, 512),\n",
    "            # nn.BatchNorm1d(512),\n",
    "            nn.ReLU(),\n",
    "            nn.Linear(512, 10),\n",
    "        )\n",
    "\n",
    "    def forward(self, x):\n",
    "        logits = self.linear_relu_stack(x)\n",
    "        return logits\n"
   ]
  },
  {
   "cell_type": "code",
   "execution_count": 7,
   "metadata": {},
   "outputs": [],
   "source": [
    "from sklearn.model_selection import train_test_split\n",
    "\n",
    "X_train, X_test, y_train, y_test = train_test_split(x_data, y_data, test_size = 0.20, random_state = 42)\n",
    "X_train, X_test = torch.Tensor(X_train.values), torch.Tensor(X_test.values)\n",
    "y_train, y_test = torch.Tensor(y_train.values), torch.Tensor(y_test.values)\n",
    "\n",
    "X_train = X_train.to(device)\n",
    "X_test = X_test.to(device)\n",
    "y_train = y_train.to(device)\n",
    "y_test = y_test.to(device)"
   ]
  },
  {
   "cell_type": "code",
   "execution_count": 8,
   "metadata": {},
   "outputs": [],
   "source": [
    "lr = 0.001\n",
    "epochs = 2000\n",
    "model = MLP().to(device)\n",
    "\n",
    "cirterion = torch.nn.CrossEntropyLoss()\n",
    "optimizer = torch.optim.SGD(model.parameters(), lr=lr)"
   ]
  },
  {
   "cell_type": "code",
   "execution_count": 9,
   "metadata": {},
   "outputs": [
    {
     "name": "stdout",
     "output_type": "stream",
     "text": [
      "====\n",
      "epoch  0\n",
      "loss  tensor(14.7757, device='cuda:0')\n",
      "train_accuracy 0.129\n",
      "test_accuracy 0.172\n",
      "====\n",
      "epoch  100\n",
      "loss  tensor(0.4250, device='cuda:0')\n",
      "train_accuracy 0.883\n",
      "test_accuracy 0.880\n",
      "====\n",
      "epoch  200\n",
      "loss  tensor(0.3040, device='cuda:0')\n",
      "train_accuracy 0.913\n",
      "test_accuracy 0.905\n",
      "====\n",
      "epoch  300\n",
      "loss  tensor(0.2463, device='cuda:0')\n",
      "train_accuracy 0.928\n",
      "test_accuracy 0.917\n",
      "====\n",
      "epoch  400\n",
      "loss  tensor(0.2101, device='cuda:0')\n",
      "train_accuracy 0.938\n",
      "test_accuracy 0.925\n",
      "====\n",
      "epoch  500\n",
      "loss  tensor(0.1844, device='cuda:0')\n",
      "train_accuracy 0.946\n",
      "test_accuracy 0.931\n",
      "====\n",
      "epoch  600\n",
      "loss  tensor(0.1648, device='cuda:0')\n",
      "train_accuracy 0.952\n",
      "test_accuracy 0.935\n",
      "====\n",
      "epoch  700\n",
      "loss  tensor(0.1492, device='cuda:0')\n",
      "train_accuracy 0.957\n",
      "test_accuracy 0.939\n",
      "====\n",
      "epoch  800\n",
      "loss  tensor(0.1363, device='cuda:0')\n",
      "train_accuracy 0.961\n",
      "test_accuracy 0.940\n",
      "====\n",
      "epoch  900\n",
      "loss  tensor(0.1255, device='cuda:0')\n",
      "train_accuracy 0.964\n",
      "test_accuracy 0.942\n",
      "====\n",
      "epoch  1000\n",
      "loss  tensor(0.1161, device='cuda:0')\n",
      "train_accuracy 0.967\n",
      "test_accuracy 0.944\n",
      "====\n",
      "epoch  1100\n",
      "loss  tensor(0.1080, device='cuda:0')\n",
      "train_accuracy 0.969\n",
      "test_accuracy 0.946\n",
      "====\n",
      "epoch  1200\n",
      "loss  tensor(0.1008, device='cuda:0')\n",
      "train_accuracy 0.972\n",
      "test_accuracy 0.947\n",
      "====\n",
      "epoch  1300\n",
      "loss  tensor(0.0944, device='cuda:0')\n",
      "train_accuracy 0.974\n",
      "test_accuracy 0.948\n",
      "====\n",
      "epoch  1400\n",
      "loss  tensor(0.0887, device='cuda:0')\n",
      "train_accuracy 0.976\n",
      "test_accuracy 0.949\n",
      "====\n",
      "epoch  1500\n",
      "loss  tensor(0.0836, device='cuda:0')\n",
      "train_accuracy 0.977\n",
      "test_accuracy 0.950\n",
      "====\n",
      "epoch  1600\n",
      "loss  tensor(0.0789, device='cuda:0')\n",
      "train_accuracy 0.979\n",
      "test_accuracy 0.951\n",
      "====\n",
      "epoch  1700\n",
      "loss  tensor(0.0746, device='cuda:0')\n",
      "train_accuracy 0.980\n",
      "test_accuracy 0.952\n",
      "====\n",
      "epoch  1800\n",
      "loss  tensor(0.0707, device='cuda:0')\n",
      "train_accuracy 0.981\n",
      "test_accuracy 0.952\n",
      "====\n",
      "epoch  1900\n",
      "loss  tensor(0.0671, device='cuda:0')\n",
      "train_accuracy 0.982\n",
      "test_accuracy 0.953\n"
     ]
    }
   ],
   "source": [
    "loss_save_arr = []\n",
    "for i in range(epochs):\n",
    "    # train\n",
    "    model.train()\n",
    "    optimizer.zero_grad()\n",
    "    output = model(X_train)\n",
    "    loss = cirterion(output, y_train.long())\n",
    "    loss.backward()\n",
    "    optimizer.step()\n",
    "    loss_save_arr.append(loss.data)\n",
    "\n",
    "    if(i % 100 == 0):\n",
    "        print(\"====\")\n",
    "        print('epoch ', i)\n",
    "        print('loss ', loss.data)\n",
    "        _, pred = torch.max(output.data, axis = 1)\n",
    "        print(\"train_accuracy {:0.3f}\".format(float((pred == y_train).sum() / y_train.size(0))))\n",
    "\n",
    "        # test\n",
    "        model.eval()\n",
    "        with torch.no_grad():\n",
    "            output = model(X_test)\n",
    "            _, pred = torch.max(output.data, axis = 1)\n",
    "            print(\"test_accuracy {:0.03f}\".format(float((pred == y_test).sum() / y_test.size(0))))\n",
    "\n"
   ]
  },
  {
   "cell_type": "code",
   "execution_count": null,
   "metadata": {},
   "outputs": [
    {
     "data": {
      "text/plain": [
       "[<matplotlib.lines.Line2D at 0x7fe5355d65d0>]"
      ]
     },
     "execution_count": 9,
     "metadata": {},
     "output_type": "execute_result"
    },
    {
     "data": {
      "image/png": "[encoded data removed]",
      "text/plain": [
       "<Figure size 432x288 with 1 Axes>"
      ]
     },
     "metadata": {
      "needs_background": "light"
     },
     "output_type": "display_data"
    }
   ],
   "source": [
    "import matplotlib.pyplot as plt\n",
    "\n",
    "%matplotlib inline\n",
    "\n",
    "plt.plot(range(epochs), [e.to(\"cpu\") for e in loss_save_arr])"
   ]
  },
  {
   "cell_type": "code",
   "execution_count": 11,
   "metadata": {},
   "outputs": [
    {
     "name": "stdout",
     "output_type": "stream",
     "text": [
      "test_accuracy 0.954\n"
     ]
    }
   ],
   "source": [
    "import torchvision.models as models\n",
    "\n",
    "torch.save(model.state_dict(), 'mnist_model.pth')\n",
    "\n",
    "with torch.no_grad():\n",
    "    output = model(X_test)\n",
    "    _, pred = torch.max(output.data, axis = 1)\n",
    "    print(\"test_accuracy {:0.03f}\".format(float((pred == y_test).sum() / y_test.size(0))))"
   ]
  },
  {
   "cell_type": "code",
   "execution_count": null,
   "metadata": {},
   "outputs": [],
   "source": []
  }
 ],
 "metadata": {
  "interpreter": {
   "hash": "c02b01814219b170fb14f0e65049657bc2264555a37d96c6334fb69a414c765e"
  },
  "kernelspec": {
   "display_name": "Python 3.7.12 64-bit ('venv_ml')",
   "language": "python",
   "name": "python3"
  },
  "language_info": {
   "codemirror_mode": {
    "name": "ipython",
    "version": 3
   },
   "file_extension": ".py",
   "mimetype": "text/x-python",
   "name": "python",
   "nbconvert_exporter": "python",
   "pygments_lexer": "ipython3",
   "version": "3.7.12"
  },
  "orig_nbformat": 4
 },
 "nbformat": 4,
 "nbformat_minor": 2
}
